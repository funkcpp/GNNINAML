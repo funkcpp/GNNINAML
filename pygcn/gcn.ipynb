{
 "cells": [
  {
   "cell_type": "code",
   "execution_count": 1,
   "id": "127f15e7",
   "metadata": {},
   "outputs": [],
   "source": [
    "import torch\n",
    "import torch_geometric\n",
    "\n",
    "import math\n",
    "\n",
    "import torch\n",
    "\n",
    "from torch.nn.parameter import Parameter\n",
    "from torch.nn.modules.module import Module\n",
    "import torch.nn.functional as F\n",
    "\n",
    "from GCNlayers import GraphConvolution\n",
    "from GCNmodel import GCN"
   ]
  },
  {
   "cell_type": "code",
   "execution_count": 3,
   "id": "5025ad3f",
   "metadata": {},
   "outputs": [
    {
     "name": "stdout",
     "output_type": "stream",
     "text": [
      "torch.Size([2, 2000])\n",
      "torch.Size([2, 4000])\n",
      "torch.Size([1, 100, 100])\n"
     ]
    }
   ],
   "source": [
    "# 创造初始边界条件\n",
    "\n",
    "numNodes = 100 #节点个数\n",
    "numEdges = 2000 #边的个数\n",
    "\n",
    "# 设置随机种子\n",
    "torch.manual_seed(0)\n",
    "\n",
    "row = torch.randint(0,numNodes,(numEdges,))\n",
    "col = torch.randint(0,numNodes,(numEdges,))\n",
    "\n",
    "edgeIndex = torch.stack([row, col], dim=0) #按照列合并 [2,numEdges]\n",
    "print(edgeIndex.shape)\n",
    "\n",
    "edgeIndex = torch.cat([edgeIndex, edgeIndex.flip(0)], dim=1) # 按照每行翻转后按行cat\n",
    "print(edgeIndex.shape)\n",
    "\n",
    "\n",
    "\n",
    "# 去掉重复的\n",
    "edgeIndex = edgeIndex.unique(dim=1)\n",
    "\n",
    "# 利用pyg生成网络\n",
    "data = torch_geometric.data.Data(edge_index=edgeIndex)\n",
    "\n",
    "adj = torch_geometric.utils.to_dense_adj(data.edge_index)\n",
    "print(adj.shape) # [1,numNodes,numNodes]\n",
    "\n",
    "# 构建随机节点特征模型\n",
    "nodeFeatures = 16\n",
    "nodeTarget = torch.randn((numNodes,nodeFeatures))\n"
   ]
  },
  {
   "cell_type": "code",
   "execution_count": 4,
   "id": "f9e0e559",
   "metadata": {},
   "outputs": [
    {
     "name": "stderr",
     "output_type": "stream",
     "text": [
      "d:\\anaconda\\envs\\pytorchenv\\Lib\\site-packages\\torch_geometric\\data\\storage.py:452: UserWarning: Unable to accurately infer 'num_nodes' from the attribute set '{'edge_index'}'. Please explicitly set 'num_nodes' as an attribute of 'data' to suppress this warning\n",
      "  warnings.warn(\n",
      "d:\\anaconda\\envs\\pytorchenv\\Lib\\site-packages\\torch_geometric\\data\\storage.py:452: UserWarning: Unable to accurately infer 'num_nodes' from the attribute set '{'edge_index', 'train_mask'}'. Please explicitly set 'num_nodes' as an attribute of 'data' to suppress this warning\n",
      "  warnings.warn(\n"
     ]
    }
   ],
   "source": [
    "\n",
    "# 利用pyg做 trainMask 和 testMask\n",
    "data.train_mask = torch.zeros(data.num_nodes, dtype=torch.bool)\n",
    "data.test_mask = torch.zeros(data.num_nodes, dtype=torch.bool)\n",
    "\n",
    "data.train_mask[:int(0.8 * numNodes)] = 1\n",
    "data.test_mask[int(0.8 * numNodes):] = 1"
   ]
  },
  {
   "cell_type": "code",
   "execution_count": 15,
   "id": "68a42cf9",
   "metadata": {},
   "outputs": [],
   "source": [
    "# 读取AML数据\n",
    "import pandas as pd\n",
    "data = pd.read_csv('D:\\\\data\\\\HI-Small_Trans.csv')"
   ]
  },
  {
   "cell_type": "code",
   "execution_count": 39,
   "id": "7914a54c",
   "metadata": {},
   "outputs": [
    {
     "data": {
      "text/plain": [
       "Index(['Timestamp', 'From Bank', 'Account', 'To Bank', 'Account.1',\n",
       "       'Amount Received', 'Receiving Currency', 'Amount Paid',\n",
       "       'Payment Currency', 'Payment Format', 'Is Laundering', 'NodeID1',\n",
       "       'NodeID2'],\n",
       "      dtype='object')"
      ]
     },
     "execution_count": 39,
     "metadata": {},
     "output_type": "execute_result"
    }
   ],
   "source": [
    "data.columns"
   ]
  },
  {
   "cell_type": "code",
   "execution_count": 25,
   "id": "45011464",
   "metadata": {},
   "outputs": [
    {
     "data": {
      "text/plain": [
       "Is Laundering\n",
       "0    5073168\n",
       "1       5177\n",
       "Name: count, dtype: int64"
      ]
     },
     "execution_count": 25,
     "metadata": {},
     "output_type": "execute_result"
    }
   ],
   "source": [
    "# 查看Laundering的分布\n",
    "data['Is Laundering'].value_counts()"
   ]
  },
  {
   "cell_type": "code",
   "execution_count": 26,
   "id": "561025c1",
   "metadata": {},
   "outputs": [],
   "source": [
    "# 按照时间戳划分训练集和测试集\n",
    "data['Timestamp'] = pd.to_datetime(data['Timestamp'])"
   ]
  },
  {
   "cell_type": "code",
   "execution_count": null,
   "id": "115f9e98",
   "metadata": {},
   "outputs": [],
   "source": [
    "# 将AML数据转换为PyG格式\n",
    "\n",
    "# 创建unique节点ID\n",
    "# 采用将bank + account的方式\n",
    "\n",
    "def createNodeId(data):\n",
    "    data['NodeID1'] = data['From Bank'].astype(str) + '_' + data['Account'].astype(str)\n",
    "    data['NodeID2'] = data['To Bank'].astype(str) + '_' + data['Account.1'].astype(str)\n",
    "    return data\n",
    "\n",
    "data = createNodeId(data)\n",
    "\n",
    "from sklearn.preprocessing import LabelEncoder\n",
    "\n",
    "allNodes = pd.concat([data['NodeID1'], data['NodeID2']],axis = 0)\n",
    "encoder = LabelEncoder()\n",
    "encoder.fit(allNodes)\n",
    "\n",
    "data['NodeID1'] = encoder.transform(data['NodeID1'])\n",
    "data['NodeID2'] = encoder.transform(data['NodeID2'])\n",
    "\n",
    "\n",
    "allPayment = pd.concat(\n",
    "    [data['Receiving Currency'],data['Payment Currency']],axis = 0\n",
    ")\n",
    "\n",
    "encoder = LabelEncoder()\n",
    "encoder.fit(allPayment)\n",
    "data['Receiving Currency'] = encoder.transform(data['Receiving Currency'])\n",
    "data['Payment Currency'] = encoder.transform(data['Payment Currency'])\n",
    "\n",
    "paymentFormat = data['Payment Format']\n",
    "encoder = LabelEncoder()\n",
    "encoder.fit(paymentFormat)\n",
    "data['Payment Format'] = encoder.transform(data['Payment Format'])\n"
   ]
  },
  {
   "cell_type": "code",
   "execution_count": 41,
   "id": "0f7bd463",
   "metadata": {},
   "outputs": [],
   "source": [
    "q80data = data['Timestamp'].quantile(0.8)\n",
    "dataTrain = data[data['Timestamp'] < q80data]\n",
    "dataTest = data[data['Timestamp'] >= q80data]"
   ]
  },
  {
   "cell_type": "code",
   "execution_count": 42,
   "id": "54bfef91",
   "metadata": {},
   "outputs": [
    {
     "data": {
      "text/plain": [
       "Index(['Timestamp', 'From Bank', 'Account', 'To Bank', 'Account.1',\n",
       "       'Amount Received', 'Receiving Currency', 'Amount Paid',\n",
       "       'Payment Currency', 'Payment Format', 'Is Laundering', 'NodeID1',\n",
       "       'NodeID2'],\n",
       "      dtype='object')"
      ]
     },
     "execution_count": 42,
     "metadata": {},
     "output_type": "execute_result"
    }
   ],
   "source": [
    "dataTrain.columns"
   ]
  },
  {
   "cell_type": "code",
   "execution_count": 43,
   "id": "aa70f740",
   "metadata": {},
   "outputs": [],
   "source": [
    "dataTrain = dataTrain[['Timestamp','NodeID1','NodeID2',\n",
    "'Amount Received','Receiving Currency','Amount Paid','Payment Currency','Payment Format']]\n",
    "dataTest = dataTest[['Timestamp','NodeID1','NodeID2',\n",
    "'Amount Received','Receiving Currency','Amount Paid','Payment Currency','Payment Format']]"
   ]
  },
  {
   "cell_type": "code",
   "execution_count": 49,
   "id": "8389079d",
   "metadata": {},
   "outputs": [],
   "source": [
    "row = data['NodeID1']\n",
    "col = data['NodeID2']\n",
    "\n",
    "row = torch.tensor(row.values)\n",
    "col = torch.tensor(col.values)\n",
    "\n",
    "edgeIndex = torch.stack([row, col], dim=0)\n"
   ]
  },
  {
   "cell_type": "code",
   "execution_count": null,
   "id": "57594a6b",
   "metadata": {},
   "outputs": [],
   "source": [
    "def csvToPyg(data):\n",
    "\n",
    "    row = data['NodeID1']\n",
    "    col = data['NodeID2']\n",
    "\n",
    "    row = torch.tensor(row.values)\n",
    "    col = torch.tensor(col.values)\n",
    "\n",
    "    edgeIndex = torch.stack([row, col], dim=0)\n",
    "    \n",
    "\n",
    "    return Data"
   ]
  }
 ],
 "metadata": {
  "kernelspec": {
   "display_name": "pytorchenv",
   "language": "python",
   "name": "python3"
  },
  "language_info": {
   "codemirror_mode": {
    "name": "ipython",
    "version": 3
   },
   "file_extension": ".py",
   "mimetype": "text/x-python",
   "name": "python",
   "nbconvert_exporter": "python",
   "pygments_lexer": "ipython3",
   "version": "3.12.9"
  }
 },
 "nbformat": 4,
 "nbformat_minor": 5
}
